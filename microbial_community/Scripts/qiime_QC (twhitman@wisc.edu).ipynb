{
 "cells": [
  {
   "cell_type": "code",
   "execution_count": null,
   "metadata": {
    "collapsed": true
   },
   "outputs": [],
   "source": [
    "# Before starting notebook, need to activate QIIME2 virtual environment\n",
    "# \"source activate qiime2-2018.2\""
   ]
  },
  {
   "cell_type": "code",
   "execution_count": 12,
   "metadata": {
    "collapsed": false
   },
   "outputs": [
    {
     "name": "stdout",
     "output_type": "stream",
     "text": [
      "15M_S70_L001_R1_001.fastq.gz\r\n",
      "15M_S70_L001_R2_001.fastq.gz\r\n",
      "15T_S69_L001_R1_001.fastq.gz\r\n",
      "15T_S69_L001_R2_001.fastq.gz\r\n",
      "1M_S74_L001_R1_001.fastq.gz\r\n",
      "1M_S74_L001_R2_001.fastq.gz\r\n",
      "1T_S73_L001_R1_001.fastq.gz\r\n",
      "1T_S73_L001_R2_001.fastq.gz\r\n",
      "4M_S72_L001_R1_001.fastq.gz\r\n",
      "4M_S72_L001_R2_001.fastq.gz\r\n",
      "4T_S71_L001_R1_001.fastq.gz\r\n",
      "4T_S71_L001_R2_001.fastq.gz\r\n",
      "52M_S68_L001_R1_001.fastq.gz\r\n",
      "52M_S68_L001_R2_001.fastq.gz\r\n",
      "52T_S67_L001_R1_001.fastq.gz\r\n",
      "52T_S67_L001_R2_001.fastq.gz\r\n",
      "56M_S66_L001_R1_001.fastq.gz\r\n",
      "56M_S66_L001_R2_001.fastq.gz\r\n",
      "56T_S65_L001_R1_001.fastq.gz\r\n",
      "56T_S65_L001_R2_001.fastq.gz\r\n",
      "58M_S64_L001_R1_001.fastq.gz\r\n",
      "58M_S64_L001_R2_001.fastq.gz\r\n",
      "58T_S63_L001_R1_001.fastq.gz\r\n",
      "58T_S63_L001_R2_001.fastq.gz\r\n",
      "Blank_S92_L001_R1_001.fastq.gz\r\n",
      "Blank_S92_L001_R2_001.fastq.gz\r\n",
      "JP-CFB-09M_GTAACGAG-CGTGAGTG_L001_R1_001.fastq.gz\r\n",
      "JP-CFB-09M_GTAACGAG-CGTGAGTG_L001_R2_001.fastq.gz\r\n",
      "JP-CFB-09T_ACGCTACT-TCGACGAG_L001_R1_001.fastq.gz\r\n",
      "JP-CFB-09T_ACGCTACT-TCGACGAG_L001_R2_001.fastq.gz\r\n",
      "JP-CFB-11M_GTCTATGA-GACACTGA_L001_R1_001.fastq.gz\r\n",
      "JP-CFB-11M_GTCTATGA-GACACTGA_L001_R2_001.fastq.gz\r\n",
      "JP-CFB-11T_ACGTGCGC-GGATATCT_L001_R1_001.fastq.gz\r\n",
      "JP-CFB-11T_ACGTGCGC-GGATATCT_L001_R2_001.fastq.gz\r\n",
      "JP-CFB-17M_ACTCACTG-GATCGTGT_L001_R1_001.fastq.gz\r\n",
      "JP-CFB-17M_ACTCACTG-GATCGTGT_L001_R2_001.fastq.gz\r\n",
      "JP-CFB-17T_TATAGCGA-TGCGTACG_L001_R1_001.fastq.gz\r\n",
      "JP-CFB-17T_TATAGCGA-TGCGTACG_L001_R2_001.fastq.gz\r\n",
      "JP-CFB-23M_ATAGTACC-GACACCGT_L001_R1_001.fastq.gz\r\n",
      "JP-CFB-23M_ATAGTACC-GACACCGT_L001_R2_001.fastq.gz\r\n",
      "JP-CFB-23T_TGAGTACG-GTCAGATA_L001_R1_001.fastq.gz\r\n",
      "JP-CFB-23T_TGAGTACG-GTCAGATA_L001_R2_001.fastq.gz\r\n",
      "JP-CFB-30M_CTCGACTT-TAGTGTAG_L001_R1_001.fastq.gz\r\n",
      "JP-CFB-30M_CTCGACTT-TAGTGTAG_L001_R2_001.fastq.gz\r\n",
      "JP-CFB-30T_CTCGACTT-ATCGTACG_L001_R1_001.fastq.gz\r\n",
      "JP-CFB-30T_CTCGACTT-ATCGTACG_L001_R2_001.fastq.gz\r\n",
      "JP-CFB-53M_GCGTATAC-CTACTATA_L001_R1_001.fastq.gz\r\n",
      "JP-CFB-53M_GCGTATAC-CTACTATA_L001_R2_001.fastq.gz\r\n",
      "JP-CFB-53T_CTGCGTAG-ACGACGTG_L001_R1_001.fastq.gz\r\n",
      "JP-CFB-53T_CTGCGTAG-ACGACGTG_L001_R2_001.fastq.gz\r\n",
      "JP-CFB-Blank1_CGAAGTAT-ACTATCTG_L001_R1_001.fastq.gz\r\n",
      "JP-CFB-Blank1_CGAAGTAT-ACTATCTG_L001_R2_001.fastq.gz\r\n"
     ]
    }
   ],
   "source": [
    "!ls ../../Data/Seq/First_Data_Trial/\n",
    "# List all the files in the folder.\n",
    "# You want to see all your sequence XXX.fastq.gz files, R1 and R2 for each sample."
   ]
  },
  {
   "cell_type": "code",
   "execution_count": 13,
   "metadata": {
    "collapsed": true
   },
   "outputs": [],
   "source": [
    "!qiime tools import  --type 'SampleData[PairedEndSequencesWithQuality]' --input-path ../../Data/Seq/First_Data_Trial/ --source-format CasavaOneEightSingleLanePerSampleDirFmt --output-path ../../Data/Seq/Working_Directory/demux.qza\n",
    "# Here we are importing our data\n",
    "# We received our files from the sequencing centre already demultiplexed -\n",
    "# that is, there is a separate pair of .fastq.gz files (forward and reverse read) for each of our samples."
   ]
  },
  {
   "cell_type": "code",
   "execution_count": 7,
   "metadata": {
    "collapsed": false
   },
   "outputs": [
    {
     "name": "stdout",
     "output_type": "stream",
     "text": [
      "\u001b[33mQIIME is caching your current deployment for improved performance. This may take a few moments and should only happen once per deployment.\u001b[0m\n",
      "\u001b[32mSaved Visualization to: ../../Data/Seq/Working_Directory/demux.qzv\u001b[0m\n"
     ]
    }
   ],
   "source": [
    "!qiime demux summarize --i-data ../../Data/Seq/Working_Directory/demux.qza --o-visualization ../../Data/Seq/Working_Directory/demux.qzv"
   ]
  },
  {
   "cell_type": "code",
   "execution_count": 8,
   "metadata": {
    "collapsed": false
   },
   "outputs": [
    {
     "name": "stdout",
     "output_type": "stream",
     "text": [
      "Press the 'q' key, Control-C, or Control-D to quit. This view may no longer be accessible or work correctly after quitting.\n",
      "Press the 'q' key, Control-C, or Control-D to quit. This view may no longer be accessible or work correctly after quitting."
     ]
    }
   ],
   "source": [
    "!qiime tools view ../../Data/Seq/Working_Directory/demux.qzv\n",
    "# Let's take a look at the read quality plots.\n",
    "# How does it compare to the tutorial reads?\n",
    "# How long are the reads?\n",
    "# Where along the read do sequences get bad?\n",
    "# Do the forward or reverse reads tend to be better quality?\n",
    "\n",
    "# Remember you have to press the square (\"STOP\") button to stop this cell running the visualization."
   ]
  },
  {
   "cell_type": "code",
   "execution_count": 4,
   "metadata": {
    "collapsed": false,
    "scrolled": false
   },
   "outputs": [
    {
     "name": "stdout",
     "output_type": "stream",
     "text": [
      "Usage: qiime dada2 denoise-paired [OPTIONS]\r\n",
      "\r\n",
      "  This method denoises paired-end sequences, dereplicates them, and filters\r\n",
      "  chimeras.\r\n",
      "\r\n",
      "Options:\r\n",
      "  --i-demultiplexed-seqs ARTIFACT PATH SampleData[PairedEndSequencesWithQuality]\r\n",
      "                                  The paired-end demultiplexed sequences to be\r\n",
      "                                  denoised.  [required]\r\n",
      "  --p-trunc-len-f INTEGER         Position at which forward read sequences\r\n",
      "                                  should be truncated due to decrease in\r\n",
      "                                  quality. This truncates the 3' end of the of\r\n",
      "                                  the input sequences, which will be the bases\r\n",
      "                                  that were sequenced in the last cycles.\r\n",
      "                                  Reads that are shorter than this value will\r\n",
      "                                  be discarded. After this parameter is\r\n",
      "                                  applied there must still be at least a 20\r\n",
      "                                  nucleotide overlap between the forward and\r\n",
      "                                  reverse reads. If 0 is provided, no\r\n",
      "                                  truncation or length filtering will be\r\n",
      "                                  performed  [required]\r\n",
      "  --p-trunc-len-r INTEGER         Position at which reverse read sequences\r\n",
      "                                  should be truncated due to decrease in\r\n",
      "                                  quality. This truncates the 3' end of the of\r\n",
      "                                  the input sequences, which will be the bases\r\n",
      "                                  that were sequenced in the last cycles.\r\n",
      "                                  Reads that are shorter than this value will\r\n",
      "                                  be discarded. After this parameter is\r\n",
      "                                  applied there must still be at least a 20\r\n",
      "                                  nucleotide overlap between the forward and\r\n",
      "                                  reverse reads. If 0 is provided, no\r\n",
      "                                  truncation or length filtering will be\r\n",
      "                                  performed  [required]\r\n",
      "  --p-trim-left-f INTEGER         Position at which forward read sequences\r\n",
      "                                  should be trimmed due to low quality. This\r\n",
      "                                  trims the 5' end of the input sequences,\r\n",
      "                                  which will be the bases that were sequenced\r\n",
      "                                  in the first cycles.  [default: 0]\r\n",
      "  --p-trim-left-r INTEGER         Position at which reverse read sequences\r\n",
      "                                  should be trimmed due to low quality. This\r\n",
      "                                  trims the 5' end of the input sequences,\r\n",
      "                                  which will be the bases that were sequenced\r\n",
      "                                  in the first cycles.  [default: 0]\r\n",
      "  --p-max-ee FLOAT                Reads with number of expected errors higher\r\n",
      "                                  than this value will be discarded.\r\n",
      "                                  [default: 2.0]\r\n",
      "  --p-trunc-q INTEGER             Reads are truncated at the first instance of\r\n",
      "                                  a quality score less than or equal to this\r\n",
      "                                  value. If the resulting read is then shorter\r\n",
      "                                  than `trunc_len_f` or `trunc_len_r`\r\n",
      "                                  (depending on the direction of the read) it\r\n",
      "                                  is discarded.  [default: 2]\r\n",
      "  --p-chimera-method [consensus|none|pooled]\r\n",
      "                                  The method used to remove chimeras. \"none\":\r\n",
      "                                  No chimera removal is performed. \"pooled\":\r\n",
      "                                  All reads are pooled prior to chimera\r\n",
      "                                  detection. \"consensus\": Chimeras are\r\n",
      "                                  detected in samples individually, and\r\n",
      "                                  sequences found chimeric in a sufficient\r\n",
      "                                  fraction of samples are removed.  [default:\r\n",
      "                                  consensus]\r\n",
      "  --p-min-fold-parent-over-abundance FLOAT\r\n",
      "                                  The minimum abundance of potential parents\r\n",
      "                                  of a sequence being tested as chimeric,\r\n",
      "                                  expressed as a fold-change versus the\r\n",
      "                                  abundance of the sequence being tested.\r\n",
      "                                  Values should be greater than or equal to 1\r\n",
      "                                  (i.e. parents should be more abundant than\r\n",
      "                                  the sequence being tested). This parameter\r\n",
      "                                  has no effect if chimera_method is \"none\".\r\n",
      "                                  [default: 1.0]\r\n",
      "  --p-n-threads INTEGER           The number of threads to use for\r\n",
      "                                  multithreaded processing. If 0 is provided,\r\n",
      "                                  all available cores will be used.  [default:\r",
      "\r\n",
      "                                  1]\r\n",
      "  --p-n-reads-learn INTEGER       The number of reads to use when training the\r\n",
      "                                  error model. Smaller numbers will result in\r\n",
      "                                  a shorter run time but a less reliable error\r\n",
      "                                  model.  [default: 1000000]\r\n",
      "  --p-hashed-feature-ids / --p-no-hashed-feature-ids\r\n",
      "                                  If true, the feature ids in the resulting\r\n",
      "                                  table will be presented as hashes of the\r\n",
      "                                  sequences defining each feature. The hash\r\n",
      "                                  will always be the same for the same\r\n",
      "                                  sequence so this allows feature tables to be\r\n",
      "                                  merged across runs of this method. You\r\n",
      "                                  should only merge tables if the exact same\r\n",
      "                                  parameters are used for each run.  [default:\r\n",
      "                                  True]\r\n",
      "  --o-table ARTIFACT PATH FeatureTable[Frequency]\r\n",
      "                                  The resulting feature table.  [required if\r\n",
      "                                  not passing --output-dir]\r\n",
      "  --o-representative-sequences ARTIFACT PATH FeatureData[Sequence]\r\n",
      "                                  The resulting feature sequences. Each\r\n",
      "                                  feature in the feature table will be\r\n",
      "                                  represented by exactly one sequence, and\r\n",
      "                                  these sequences will be the joined paired-\r\n",
      "                                  end sequences.  [required if not passing\r\n",
      "                                  --output-dir]\r\n",
      "  --output-dir DIRECTORY          Output unspecified results to a directory\r\n",
      "  --cmd-config PATH               Use config file for command options\r\n",
      "  --verbose                       Display verbose output to stdout and/or\r\n",
      "                                  stderr during execution of this action.\r\n",
      "                                  [default: False]\r\n",
      "  --quiet                         Silence output if execution is successful\r\n",
      "                                  (silence is golden).  [default: False]\r\n",
      "  --help                          Show this message and exit.\r\n"
     ]
    }
   ],
   "source": [
    "!qiime dada2 denoise-paired --help"
   ]
  },
  {
   "cell_type": "code",
   "execution_count": 11,
   "metadata": {
    "collapsed": false,
    "scrolled": true
   },
   "outputs": [
    {
     "name": "stdout",
     "output_type": "stream",
     "text": [
      "Running external command line application(s). This may print messages to stdout and/or stderr.\n",
      "The command(s) being run are below. These commands cannot be manually re-run as they will depend on temporary files that no longer exist.\n",
      "\n",
      "Command: run_dada_paired.R /var/folders/6q/k2g3nlwj2kj_v07xhj93hsp40000gn/T/tmpefs48p9n/forward /var/folders/6q/k2g3nlwj2kj_v07xhj93hsp40000gn/T/tmpefs48p9n/reverse /var/folders/6q/k2g3nlwj2kj_v07xhj93hsp40000gn/T/tmpefs48p9n/output.tsv.biom /var/folders/6q/k2g3nlwj2kj_v07xhj93hsp40000gn/T/tmpefs48p9n/filt_f /var/folders/6q/k2g3nlwj2kj_v07xhj93hsp40000gn/T/tmpefs48p9n/filt_r 250 250 12 12 2.0 2 consensus 1.0 0 1000000\n",
      "\n",
      "R version 3.4.1 (2017-06-30) \n",
      "Loading required package: Rcpp\n",
      "DADA2 R package version: 1.6.0 \n",
      "1) Filtering ^C\n",
      "\n",
      "Aborted!\n"
     ]
    }
   ],
   "source": [
    "# Filtering and assigning OTUs\n",
    "\n",
    "!qiime dada2 denoise-paired --i-demultiplexed-seqs ../../Data/Seq/Working_Directory/demux.qza --p-trim-left-f 12 --p-trim-left-r 12 --p-trunc-len-f 250 --p-trunc-len-r 250 --p-max-ee 2 --p-n-threads 0 --verbose --o-table ../../Data/Seq/Working_Directory/table --o-representative-sequences ../../Data/Seq/Working_Directory/rep-seqs\n",
    "\n",
    "# On my computer, for full run data, this started at 6:22PM 61 samples or so, full MiSeq 2x250 PE run\n",
    "# I've set it so it takes as much memory as is available\n",
    "# I've also set it so it reports what it's doing below.\n",
    "# That way, you can see the progress it makes as it works its way through filtering, errors, and each sample\n",
    "\n",
    "# Started around 6:15PM; Up to Fwd reads by 6:19\n",
    "# On self-consist step 7 for reverse reads (8 steps for fwd) at 8:30AM."
   ]
  },
  {
   "cell_type": "code",
   "execution_count": 2,
   "metadata": {
    "collapsed": false
   },
   "outputs": [
    {
     "name": "stdout",
     "output_type": "stream",
     "text": [
      "total 919216\r\n",
      "drwx------  14 christinakranz  staff   448B Mar 24 20:34 \u001b[34m.\u001b[m\u001b[m\r\n",
      "drwx------   5 christinakranz  staff   160B Mar 20 09:42 \u001b[34m..\u001b[m\u001b[m\r\n",
      "drwx------  22 christinakranz  staff   704B Feb 13 16:13 \u001b[34mOTU_table1\u001b[m\u001b[m\r\n",
      "-rw-------   1 christinakranz  staff    25M Apr 21  2017 classifier.qza\r\n",
      "-rw-------   1 christinakranz  staff   422M Mar 26 08:40 demux.qza\r\n",
      "-rw-------   1 christinakranz  staff   286K Mar 20 15:19 demux.qzv\r\n",
      "-rw-------   1 christinakranz  staff    14K May 30  2017 feature-frequencies.pdf\r\n",
      "-rw-r--r--   1 christinakranz  staff   436K Mar 24 20:34 rep-seqs.qza\r\n",
      "-rw-------   1 christinakranz  staff    60K May 30  2017 repseq.qza\r\n",
      "-rw-------   1 christinakranz  staff   310K May 30  2017 repseq.qzv\r\n",
      "-rw-r--r--   1 christinakranz  staff   228K Mar 24 20:34 table.qza\r\n",
      "-rw-------   1 christinakranz  staff    39K May 30  2017 table1.qza\r\n",
      "-rw-------   1 christinakranz  staff   334K May 30  2017 table1.qzv\r\n",
      "-rw-------   1 christinakranz  staff    40K May 31  2017 taxonomy.qza\r\n"
     ]
    }
   ],
   "source": [
    "!ls -lah ../../Data/Seq/Working_Directory"
   ]
  },
  {
   "cell_type": "code",
   "execution_count": 3,
   "metadata": {
    "collapsed": false
   },
   "outputs": [
    {
     "name": "stdout",
     "output_type": "stream",
     "text": [
      "\u001b[32mSaved Visualization to: ../../Data/Seq/Working_Directory/table.qzv\u001b[0m\n",
      "\u001b[32mSaved Visualization to: ../../Data/Seq/Working_Directory/rep-seqs.qzv\u001b[0m\n"
     ]
    }
   ],
   "source": [
    "# Let's see what our OTU table ended up like...\n",
    "#\n",
    "!qiime feature-table summarize --i-table ../../Data/Seq/Working_Directory/table.qza --o-visualization ../../Data/Seq/Working_Directory/table.qzv #--m-sample-metadata-filesample-metadata.tsv\n",
    "!qiime feature-table tabulate-seqs --i-data ../../Data/Seq/Working_Directory/rep-seqs.qza --o-visualization ../../Data/Seq/Working_Directory/rep-seqs.qzv"
   ]
  },
  {
   "cell_type": "code",
   "execution_count": 4,
   "metadata": {
    "collapsed": false
   },
   "outputs": [
    {
     "name": "stdout",
     "output_type": "stream",
     "text": [
      "Press the 'q' key, Control-C, or Control-D to quit. This view may no longer be accessible or work correctly after quitting.\n",
      "Press the 'q' key, Control-C, or Control-D to quit. This view may no longer be accessible or work correctly after quitting."
     ]
    }
   ],
   "source": [
    "# Looking at the table summary we just created:\n",
    "!qiime tools view ../../Data/Seq/Working_Directory/table.qzv"
   ]
  },
  {
   "cell_type": "code",
   "execution_count": 5,
   "metadata": {
    "collapsed": false
   },
   "outputs": [
    {
     "name": "stdout",
     "output_type": "stream",
     "text": [
      "Press the 'q' key, Control-C, or Control-D to quit. This view may no longer be accessible or work correctly after quitting.\n",
      "Press the 'q' key, Control-C, or Control-D to quit. This view may no longer be accessible or work correctly after quitting."
     ]
    }
   ],
   "source": [
    "# Looking at the representative sequences for each otu:\n",
    "!qiime tools view ../../Data/Seq/Working_Directory/rep-seqs.qzv\n",
    "# Second most abundant OTU"
   ]
  },
  {
   "cell_type": "markdown",
   "metadata": {},
   "source": [
    "Came back with 6.3k OTUs, 890k seqs"
   ]
  },
  {
   "cell_type": "code",
   "execution_count": 6,
   "metadata": {
    "collapsed": false
   },
   "outputs": [
    {
     "name": "stdout",
     "output_type": "stream",
     "text": [
      "qiime_QC.ipynb                         silva-119-99-515-806-nb-classifier.qza\r\n"
     ]
    }
   ],
   "source": [
    "!ls "
   ]
  },
  {
   "cell_type": "code",
   "execution_count": 8,
   "metadata": {
    "collapsed": false
   },
   "outputs": [
    {
     "name": "stdout",
     "output_type": "stream",
     "text": [
      "\u001b[32mSaved FeatureData[Taxonomy] to: ../../Data/Seq/Working_Directory/taxonomy.qza\u001b[0m\r\n"
     ]
    }
   ],
   "source": [
    "!qiime feature-classifier classify-sklearn --i-classifier silva-119-99-515-806-nb-classifier.qza --i-reads ../../Data/Seq/Working_Directory/rep-seqs.qza --o-classification ../../Data/Seq/Working_Directory/taxonomy.qza --p-pre-dispatch 1 --p-reads-per-batch 500\n",
    "# This could work but it's too big to run this classifier, so runs out of space."
   ]
  },
  {
   "cell_type": "code",
   "execution_count": 15,
   "metadata": {
    "collapsed": false
   },
   "outputs": [
    {
     "name": "stdout",
     "output_type": "stream",
     "text": [
      "mkdir: ../../Data/Seq/OTU_table: File exists\r\n"
     ]
    }
   ],
   "source": [
    "# Save it all in a format we can use in R:\n",
    "!mkdir ../../Data/Seq/OTU_table\n",
    "\n",
    "!qiime tools export ../../Data/Seq/Working_Directory/table.qza --output-dir ../../Data/Seq/OTU_table\n",
    "!qiime tools export ../../Data/Seq/Working_Directory/rep-seqs.qza --output-dir ../../Data/Seq/OTU_table"
   ]
  },
  {
   "cell_type": "code",
   "execution_count": 2,
   "metadata": {
    "collapsed": false
   },
   "outputs": [
    {
     "name": "stdout",
     "output_type": "stream",
     "text": [
      "Ordination_all_data.R dna-sequences.fasta   feature-table.biom\r\n"
     ]
    }
   ],
   "source": [
    "!ls ../../Data/Seq/OTU_table"
   ]
  },
  {
   "cell_type": "code",
   "execution_count": 3,
   "metadata": {
    "collapsed": true
   },
   "outputs": [],
   "source": [
    "!biom convert -i ../../Data/Seq/OTU_table/feature-table.biom -o ../../Data/Seq/OTU_table/feature-table.txt --to-tsv"
   ]
  },
  {
   "cell_type": "code",
   "execution_count": null,
   "metadata": {
    "collapsed": true
   },
   "outputs": [],
   "source": []
  }
 ],
 "metadata": {
  "anaconda-cloud": {},
  "kernelspec": {
   "display_name": "Python [default]",
   "language": "python",
   "name": "python3"
  },
  "language_info": {
   "codemirror_mode": {
    "name": "ipython",
    "version": 3
   },
   "file_extension": ".py",
   "mimetype": "text/x-python",
   "name": "python",
   "nbconvert_exporter": "python",
   "pygments_lexer": "ipython3",
   "version": "3.5.2"
  }
 },
 "nbformat": 4,
 "nbformat_minor": 2
}
